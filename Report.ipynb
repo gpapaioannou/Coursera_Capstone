{
 "cells": [
  {
   "cell_type": "markdown",
   "metadata": {},
   "source": [
    "# DISCOVER UNKNOWN NEIGHBORHOODS"
   ]
  },
  {
   "cell_type": "markdown",
   "metadata": {},
   "source": [
    "## 1. Introduction"
   ]
  },
  {
   "cell_type": "markdown",
   "metadata": {},
   "source": [
    "When you travel to new destinations, it is essential to discover neighborhoods and their sightseeings. There are many tourist guides about the most famous places worth visiting, but it is difficult to choose where to go out for a drink or food. You can find many reviews, but the taste of everyone is different.\n",
    "This project will be useful for aspiring travellers who want to find neighborhoods in Toronto and Manhattan based on their own preferences of neighborhoods they have already visited. As an example the client will selece a neighborhood he enjoyed in the past (in this project there are two examples: Saint-Germain in Paris and Camden in London) and our algorithm will provide suggestions based on the similarity of the neighborhoods.\n"
   ]
  },
  {
   "cell_type": "markdown",
   "metadata": {},
   "source": [
    "## 2. Data"
   ]
  },
  {
   "cell_type": "markdown",
   "metadata": {},
   "source": [
    "<p><br>We used data scrapped from the <b>Foursquare API</b> to gain venue information about all the neighborhoods in Toronto and Manhattan.<br>Toronto postal codes were scrapped from Wikipedia's article: <https://en.wikipedia.org/wiki/List_of_postal_codes_of_Canada:_M><br>\n",
    "Manhattan postal codes were scrapped from <https://geo.nyu.edu/catalog/nyu_2451_34572><br>\n",
    "Latitude and Longitude of the illustrative examples (Saint-Germain and Camden) where found with a casual <b>Google Search</b>. You can search and select any neighborhood you want in the script to test the results.<\\p>"
   ]
  },
  {
   "cell_type": "markdown",
   "metadata": {},
   "source": [
    "## 3. Methodology"
   ]
  },
  {
   "cell_type": "markdown",
   "metadata": {},
   "source": [
    "When we finally capture the data of Toronto and Manhattan we have to clean it and construct it in the desiring form. Our data is then merged for these two cities into one. The final dataset contains columns with the frequencies of various venues for every neighborhood respectively. In the cases where Toronto neighborhoods have different venues than the ones in Manhattan we had null values after the merge. We filled these null values with 0 in order to obtain as many columns possible.<br>\n",
    "We then select our control neighborhood. The control neighborhood is the neighborhood which the client has visited before and wants to find similar neighborhoods in Toronto or Manhattan. We create the dataset in the same form we created for the previous two cities.\n",
    "We will use kmeans clustering to label neighborhoods based on their similarity. The number of clusters we used is 10 in order to have biggest dissimilarity between neighborhoods. It is almost sure that the train and the test dataset have not the same amount of columns as well as the same columns. In order to avoig this problem we used the intersection of columns of Toronto and Manhattan (train dataset) and of columns of the control_neighborhood (either Saint-Germain or Camden)."
   ]
  },
  {
   "cell_type": "markdown",
   "metadata": {},
   "source": [
    "## 4. Results"
   ]
  },
  {
   "cell_type": "markdown",
   "metadata": {},
   "source": [
    "The results are printed in the script so that the client will have some options to choose from. We will present the results of the two illustrative examples here.<br>\n",
    "<ol>\n",
    "<li><b>Saint-Germain</b></li>\n",
    "  <ol>\n",
    "<li><b>Toronto:</b> 'CN Tower, King and Spadina, Railway Lands, Harbourfront West, Bathurst Quay, South Niagara, Island airport', 'Davisville', 'Garden District, Ryerson', 'Parkdale, Roncesvalles', 'Roselawn', 'The Danforth West, Riverdale'</li>\n",
    " <li><b>Manhattan:</b>'Chelsea', 'Chinatown', 'Civic Center', 'Clinton', 'East Village', 'Financial District', 'Gramercy', 'Greenwich Village', 'Hudson Yards', 'Lenox Hill', 'Lincoln Square', 'Little Italy', 'Manhattan Valley', 'Manhattanville', 'Marble Hill', 'Midtown', 'Midtown South', 'Murray Hill', 'Noho', 'Soho', 'Sutton Place', 'Tribeca', 'Turtle Bay', 'Upper East Side', 'Upper West Side', 'West Village', 'Yorkville'</li>\n",
    "    </ol>\n",
    "    <li><b>Camden</b></li>\n",
    "  \n",
    "<ol>\n",
    "    <li><b>Toronto:</b> 'Berczy Park', 'Brockton, Parkdale Village, Exhibition Place', 'Central Bay Street', 'Church and Wellesley', 'Commerce Court, Victoria Hotel', 'First Canadian Place, Underground city', 'Garden District, Ryerson', 'Harbourfront East, Union Station, Toronto Islands', 'North Toronto West, Lawrence Park', 'Parkdale, Roncesvalles', \"Queen's Park, Ontario Provincial Government\", 'Regent Park, Harbourfront', 'Richmond, Adelaide, King', 'St. James Town', 'St. James Town, Cabbagetown', 'Stn A PO Boxes', 'Studio District', 'Summerhill West, Rathnelly, South Hill, Forest Hill SE, Deer Park', 'Toronto Dominion Centre, Design Exchange'</li>\n",
    " <li><b>Manhattan:</b>'Carnegie Hill', 'Chelsea', 'Civic Center', 'Manhattan Valley', 'Manhattanville'</li>\n"
   ]
  },
  {
   "cell_type": "markdown",
   "metadata": {},
   "source": [
    "## 5. Discussion"
   ]
  },
  {
   "cell_type": "markdown",
   "metadata": {},
   "source": [
    "As we can see from the results of the previous chapter, many suggestions were created either for Saint-Germain or for Camden. It looks interesting that Camden seem to have more similarities with neighborhoods in Toronto. On the other side if somebody liked Saint-Germain in a previous trip to Paris, he will surely be excited to visit many neighborhoods in Manhattan based on their venues frequencies!"
   ]
  },
  {
   "cell_type": "markdown",
   "metadata": {},
   "source": [
    "## 6. Conclusion"
   ]
  },
  {
   "cell_type": "markdown",
   "metadata": {},
   "source": [
    "This application can be useful for aspiring explorers of new cities and travelers. It could be expand in every level. We could expand it in terms of biggest list of cities for train set of the algorithm or even create an application that suggests cities to visit based on cities you liked in the past!"
   ]
  },
  {
   "cell_type": "code",
   "execution_count": null,
   "metadata": {},
   "outputs": [],
   "source": []
  },
  {
   "cell_type": "code",
   "execution_count": null,
   "metadata": {},
   "outputs": [],
   "source": []
  }
 ],
 "metadata": {
  "kernelspec": {
   "display_name": "Python 3",
   "language": "python",
   "name": "python3"
  },
  "language_info": {
   "codemirror_mode": {
    "name": "ipython",
    "version": 3
   },
   "file_extension": ".py",
   "mimetype": "text/x-python",
   "name": "python",
   "nbconvert_exporter": "python",
   "pygments_lexer": "ipython3",
   "version": "3.7.1"
  }
 },
 "nbformat": 4,
 "nbformat_minor": 4
}
