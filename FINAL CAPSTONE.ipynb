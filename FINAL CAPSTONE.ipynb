{
 "cells": [
  {
   "cell_type": "code",
   "execution_count": 1,
   "metadata": {},
   "outputs": [
    {
     "name": "stdout",
     "output_type": "stream",
     "text": [
      "Libraries imported.\n"
     ]
    }
   ],
   "source": [
    "import numpy as np # library to handle data in a vectorized manner\n",
    "\n",
    "import pandas as pd # library for data analsysis\n",
    "pd.set_option('display.max_columns', None)\n",
    "pd.set_option('display.max_rows', None)\n",
    "\n",
    "import json # library to handle JSON files\n",
    "\n",
    "#!conda install -c conda-forge geopy --yes # uncomment this line if you haven't completed the Foursquare API lab\n",
    "from geopy.geocoders import Nominatim # convert an address into latitude and longitude values\n",
    "\n",
    "import requests # library to handle requests\n",
    "from pandas.io.json import json_normalize # tranform JSON file into a pandas dataframe\n",
    "\n",
    "# Matplotlib and associated plotting modules\n",
    "import matplotlib.cm as cm\n",
    "import matplotlib.colors as colors\n",
    "\n",
    "# import k-means from clustering stage\n",
    "from sklearn.cluster import KMeans\n",
    "\n",
    "#!conda install -c conda-forge folium=0.5.0 --yes # uncomment this line if you haven't completed the Foursquare API lab\n",
    "import folium # map rendering library\n",
    "\n",
    "print('Libraries imported.')"
   ]
  },
  {
   "cell_type": "code",
   "execution_count": 2,
   "metadata": {},
   "outputs": [
    {
     "name": "stdout",
     "output_type": "stream",
     "text": [
      "Your credentails:\n",
      "CLIENT_ID: VFSVWKKCSPYW21SIWA541D0GRC0N05AFEPSVF1UKVJGLHIDS\n",
      "CLIENT_SECRET:HOUCFKJGGAXADPFKA5VMDO4MHKRIVV1UZYSEDVP5X4SQEDYU\n"
     ]
    }
   ],
   "source": [
    "### Foursquare credentials\n",
    "CLIENT_ID = 'VFSVWKKCSPYW21SIWA541D0GRC0N05AFEPSVF1UKVJGLHIDS' # your Foursquare ID\n",
    "CLIENT_SECRET ='HOUCFKJGGAXADPFKA5VMDO4MHKRIVV1UZYSEDVP5X4SQEDYU'  # your Foursquare Secret\n",
    "VERSION = '20180605' # Foursquare API version\n",
    "LIMIT = 100\n",
    "RADIUS = 300\n",
    "print('Your credentails:')\n",
    "print('CLIENT_ID: ' + CLIENT_ID)\n",
    "print('CLIENT_SECRET:' + CLIENT_SECRET)"
   ]
  },
  {
   "cell_type": "markdown",
   "metadata": {},
   "source": [
    "### Prepare Toronto data"
   ]
  },
  {
   "cell_type": "markdown",
   "metadata": {},
   "source": [
    "### Read the table from wikipedia"
   ]
  },
  {
   "cell_type": "code",
   "execution_count": 3,
   "metadata": {},
   "outputs": [],
   "source": [
    "toronto=pd.read_html('https://en.wikipedia.org/wiki/List_of_postal_codes_of_Canada:_M')"
   ]
  },
  {
   "cell_type": "code",
   "execution_count": 4,
   "metadata": {},
   "outputs": [],
   "source": [
    "#select only the desired table\n",
    "toronto=toronto[0]"
   ]
  },
  {
   "cell_type": "markdown",
   "metadata": {},
   "source": [
    "### Remove Boroughs marked as \"Not assigned\""
   ]
  },
  {
   "cell_type": "code",
   "execution_count": 5,
   "metadata": {},
   "outputs": [],
   "source": [
    "toronto = toronto.loc[toronto['Borough']!='Not assigned']"
   ]
  },
  {
   "cell_type": "markdown",
   "metadata": {},
   "source": [
    "### Case for not assigned neighborhoods \n",
    "(Note Not needed)"
   ]
  },
  {
   "cell_type": "code",
   "execution_count": 6,
   "metadata": {},
   "outputs": [],
   "source": [
    "toronto['Neighborhood'] = np.where(toronto['Neighborhood']=='Not assigned', toronto['Borough'], toronto['Neighborhood'])"
   ]
  },
  {
   "cell_type": "code",
   "execution_count": 8,
   "metadata": {},
   "outputs": [],
   "source": [
    "import geocoder # import geocoder\n",
    "def get_lat_long(data):\n",
    "    dict_Postal={}\n",
    "    #initialize your variable to None\n",
    "    lat_lng_coords = None\n",
    "    for postal in list(data['Postal Code'].unique()):\n",
    "            # loop until you get the coordinates\n",
    "        while(lat_lng_coords is None):\n",
    "          g = geocoder.google('{}, Toronto, Ontario'.format(postal))\n",
    "          lat_lng_coords = g.latlng\n",
    "\n",
    "        latitude = lat_lng_coords[0]\n",
    "        longitude = lat_lng_coords[1]\n",
    "        dict_Postal[postal] = [latitude,longitude]\n",
    "    return(dict_Postal)\n"
   ]
  },
  {
   "cell_type": "code",
   "execution_count": 9,
   "metadata": {},
   "outputs": [],
   "source": [
    "geocodes= pd.read_csv('Geospatial_Coordinates.csv')"
   ]
  },
  {
   "cell_type": "code",
   "execution_count": 10,
   "metadata": {},
   "outputs": [],
   "source": [
    "toronto = pd.merge(toronto,\n",
    "             geocodes,\n",
    "             how = 'left',\n",
    "             on = 'Postal Code')"
   ]
  },
  {
   "cell_type": "code",
   "execution_count": 11,
   "metadata": {},
   "outputs": [
    {
     "data": {
      "text/html": [
       "<div>\n",
       "<style scoped>\n",
       "    .dataframe tbody tr th:only-of-type {\n",
       "        vertical-align: middle;\n",
       "    }\n",
       "\n",
       "    .dataframe tbody tr th {\n",
       "        vertical-align: top;\n",
       "    }\n",
       "\n",
       "    .dataframe thead th {\n",
       "        text-align: right;\n",
       "    }\n",
       "</style>\n",
       "<table border=\"1\" class=\"dataframe\">\n",
       "  <thead>\n",
       "    <tr style=\"text-align: right;\">\n",
       "      <th></th>\n",
       "      <th>Postal Code</th>\n",
       "      <th>Borough</th>\n",
       "      <th>Neighborhood</th>\n",
       "      <th>Latitude</th>\n",
       "      <th>Longitude</th>\n",
       "    </tr>\n",
       "  </thead>\n",
       "  <tbody>\n",
       "    <tr>\n",
       "      <th>0</th>\n",
       "      <td>M3A</td>\n",
       "      <td>North York</td>\n",
       "      <td>Parkwoods</td>\n",
       "      <td>43.753259</td>\n",
       "      <td>-79.329656</td>\n",
       "    </tr>\n",
       "    <tr>\n",
       "      <th>1</th>\n",
       "      <td>M4A</td>\n",
       "      <td>North York</td>\n",
       "      <td>Victoria Village</td>\n",
       "      <td>43.725882</td>\n",
       "      <td>-79.315572</td>\n",
       "    </tr>\n",
       "    <tr>\n",
       "      <th>2</th>\n",
       "      <td>M5A</td>\n",
       "      <td>Downtown Toronto</td>\n",
       "      <td>Regent Park, Harbourfront</td>\n",
       "      <td>43.654260</td>\n",
       "      <td>-79.360636</td>\n",
       "    </tr>\n",
       "    <tr>\n",
       "      <th>3</th>\n",
       "      <td>M6A</td>\n",
       "      <td>North York</td>\n",
       "      <td>Lawrence Manor, Lawrence Heights</td>\n",
       "      <td>43.718518</td>\n",
       "      <td>-79.464763</td>\n",
       "    </tr>\n",
       "    <tr>\n",
       "      <th>4</th>\n",
       "      <td>M7A</td>\n",
       "      <td>Downtown Toronto</td>\n",
       "      <td>Queen's Park, Ontario Provincial Government</td>\n",
       "      <td>43.662301</td>\n",
       "      <td>-79.389494</td>\n",
       "    </tr>\n",
       "  </tbody>\n",
       "</table>\n",
       "</div>"
      ],
      "text/plain": [
       "  Postal Code           Borough                                 Neighborhood  \\\n",
       "0         M3A        North York                                    Parkwoods   \n",
       "1         M4A        North York                             Victoria Village   \n",
       "2         M5A  Downtown Toronto                    Regent Park, Harbourfront   \n",
       "3         M6A        North York             Lawrence Manor, Lawrence Heights   \n",
       "4         M7A  Downtown Toronto  Queen's Park, Ontario Provincial Government   \n",
       "\n",
       "    Latitude  Longitude  \n",
       "0  43.753259 -79.329656  \n",
       "1  43.725882 -79.315572  \n",
       "2  43.654260 -79.360636  \n",
       "3  43.718518 -79.464763  \n",
       "4  43.662301 -79.389494  "
      ]
     },
     "execution_count": 11,
     "metadata": {},
     "output_type": "execute_result"
    }
   ],
   "source": [
    "toronto.head()"
   ]
  },
  {
   "cell_type": "code",
   "execution_count": 12,
   "metadata": {},
   "outputs": [
    {
     "name": "stdout",
     "output_type": "stream",
     "text": [
      "The geograpical coordinate of Toronto are 43.6534817, -79.3839347.\n"
     ]
    }
   ],
   "source": [
    "from geopy.geocoders import Nominatim\n",
    "address = 'Toronto, ON'\n",
    "\n",
    "geolocator = Nominatim(user_agent=\"toronto\")\n",
    "location = geolocator.geocode(address)\n",
    "latitude = location.latitude\n",
    "longitude = location.longitude\n",
    "print('The geograpical coordinate of Toronto are {}, {}.'.format(latitude, longitude))"
   ]
  },
  {
   "cell_type": "markdown",
   "metadata": {},
   "source": [
    "### Select Toronto Neighborhoods"
   ]
  },
  {
   "cell_type": "code",
   "execution_count": 13,
   "metadata": {},
   "outputs": [],
   "source": [
    "toronto=toronto.loc[toronto['Borough'].str.contains('Toronto')]"
   ]
  },
  {
   "cell_type": "markdown",
   "metadata": {},
   "source": [
    "## Prepare New York Data"
   ]
  },
  {
   "cell_type": "code",
   "execution_count": 31,
   "metadata": {},
   "outputs": [],
   "source": [
    "with open('newyork_data.json') as json_data:\n",
    "    newyork_data = json.load(json_data)"
   ]
  },
  {
   "cell_type": "code",
   "execution_count": 32,
   "metadata": {},
   "outputs": [],
   "source": [
    "neighborhoods_data = newyork_data['features']"
   ]
  },
  {
   "cell_type": "code",
   "execution_count": 33,
   "metadata": {},
   "outputs": [],
   "source": [
    "# define the dataframe columns\n",
    "column_names = ['Borough', 'Neighborhood', 'Latitude', 'Longitude'] \n",
    "\n",
    "# instantiate the dataframe\n",
    "neighborhoods = pd.DataFrame(columns=column_names)"
   ]
  },
  {
   "cell_type": "code",
   "execution_count": 34,
   "metadata": {},
   "outputs": [],
   "source": [
    "for data in neighborhoods_data:\n",
    "    borough = neighborhood_name = data['properties']['borough'] \n",
    "    neighborhood_name = data['properties']['name']\n",
    "        \n",
    "    neighborhood_latlon = data['geometry']['coordinates']\n",
    "    neighborhood_lat = neighborhood_latlon[1]\n",
    "    neighborhood_lon = neighborhood_latlon[0]\n",
    "    \n",
    "    neighborhoods = neighborhoods.append({'Borough': borough,\n",
    "                                          'Neighborhood': neighborhood_name,\n",
    "                                          'Latitude': neighborhood_lat,\n",
    "                                          'Longitude': neighborhood_lon}, ignore_index=True)"
   ]
  },
  {
   "cell_type": "code",
   "execution_count": 35,
   "metadata": {},
   "outputs": [
    {
     "name": "stdout",
     "output_type": "stream",
     "text": [
      "The geograpical coordinate of New York City are 40.7127281, -74.0060152.\n"
     ]
    }
   ],
   "source": [
    "address = 'New York City, NY'\n",
    "\n",
    "geolocator = Nominatim(user_agent=\"ny_explorer\")\n",
    "location = geolocator.geocode(address)\n",
    "latitude = location.latitude\n",
    "longitude = location.longitude\n",
    "print('The geograpical coordinate of New York City are {}, {}.'.format(latitude, longitude))"
   ]
  },
  {
   "cell_type": "code",
   "execution_count": 36,
   "metadata": {},
   "outputs": [
    {
     "data": {
      "text/html": [
       "<div>\n",
       "<style scoped>\n",
       "    .dataframe tbody tr th:only-of-type {\n",
       "        vertical-align: middle;\n",
       "    }\n",
       "\n",
       "    .dataframe tbody tr th {\n",
       "        vertical-align: top;\n",
       "    }\n",
       "\n",
       "    .dataframe thead th {\n",
       "        text-align: right;\n",
       "    }\n",
       "</style>\n",
       "<table border=\"1\" class=\"dataframe\">\n",
       "  <thead>\n",
       "    <tr style=\"text-align: right;\">\n",
       "      <th></th>\n",
       "      <th>Borough</th>\n",
       "      <th>Neighborhood</th>\n",
       "      <th>Latitude</th>\n",
       "      <th>Longitude</th>\n",
       "    </tr>\n",
       "  </thead>\n",
       "  <tbody>\n",
       "    <tr>\n",
       "      <th>0</th>\n",
       "      <td>Manhattan</td>\n",
       "      <td>Marble Hill</td>\n",
       "      <td>40.876551</td>\n",
       "      <td>-73.910660</td>\n",
       "    </tr>\n",
       "    <tr>\n",
       "      <th>1</th>\n",
       "      <td>Manhattan</td>\n",
       "      <td>Chinatown</td>\n",
       "      <td>40.715618</td>\n",
       "      <td>-73.994279</td>\n",
       "    </tr>\n",
       "    <tr>\n",
       "      <th>2</th>\n",
       "      <td>Manhattan</td>\n",
       "      <td>Washington Heights</td>\n",
       "      <td>40.851903</td>\n",
       "      <td>-73.936900</td>\n",
       "    </tr>\n",
       "    <tr>\n",
       "      <th>3</th>\n",
       "      <td>Manhattan</td>\n",
       "      <td>Inwood</td>\n",
       "      <td>40.867684</td>\n",
       "      <td>-73.921210</td>\n",
       "    </tr>\n",
       "    <tr>\n",
       "      <th>4</th>\n",
       "      <td>Manhattan</td>\n",
       "      <td>Hamilton Heights</td>\n",
       "      <td>40.823604</td>\n",
       "      <td>-73.949688</td>\n",
       "    </tr>\n",
       "  </tbody>\n",
       "</table>\n",
       "</div>"
      ],
      "text/plain": [
       "     Borough        Neighborhood   Latitude  Longitude\n",
       "0  Manhattan         Marble Hill  40.876551 -73.910660\n",
       "1  Manhattan           Chinatown  40.715618 -73.994279\n",
       "2  Manhattan  Washington Heights  40.851903 -73.936900\n",
       "3  Manhattan              Inwood  40.867684 -73.921210\n",
       "4  Manhattan    Hamilton Heights  40.823604 -73.949688"
      ]
     },
     "execution_count": 36,
     "metadata": {},
     "output_type": "execute_result"
    }
   ],
   "source": [
    "manhattan_data = neighborhoods[neighborhoods['Borough'] == 'Manhattan'].reset_index(drop=True)\n",
    "manhattan_data.head()"
   ]
  },
  {
   "cell_type": "code",
   "execution_count": 37,
   "metadata": {},
   "outputs": [
    {
     "name": "stdout",
     "output_type": "stream",
     "text": [
      "The geograpical coordinate of Manhattan are 40.7896239, -73.9598939.\n"
     ]
    }
   ],
   "source": [
    "address = 'Manhattan, NY'\n",
    "\n",
    "geolocator = Nominatim(user_agent=\"ny_explorer\")\n",
    "location = geolocator.geocode(address)\n",
    "latitude = location.latitude\n",
    "longitude = location.longitude\n",
    "print('The geograpical coordinate of Manhattan are {}, {}.'.format(latitude, longitude))"
   ]
  },
  {
   "cell_type": "code",
   "execution_count": null,
   "metadata": {},
   "outputs": [],
   "source": []
  },
  {
   "cell_type": "code",
   "execution_count": null,
   "metadata": {},
   "outputs": [],
   "source": []
  },
  {
   "cell_type": "code",
   "execution_count": null,
   "metadata": {},
   "outputs": [],
   "source": []
  },
  {
   "cell_type": "code",
   "execution_count": 14,
   "metadata": {},
   "outputs": [],
   "source": [
    "def getNearbyVenues(names, latitudes, longitudes, radius=500):\n",
    "    \n",
    "    venues_list=[]\n",
    "    for name, lat, lng in zip(names, latitudes, longitudes):\n",
    "        print(name)\n",
    "            \n",
    "        # create the API request URL\n",
    "        url = 'https://api.foursquare.com/v2/venues/explore?&client_id={}&client_secret={}&v={}&ll={},{}&radius={}&limit={}'.format(\n",
    "            CLIENT_ID, \n",
    "            CLIENT_SECRET, \n",
    "            VERSION, \n",
    "            lat, \n",
    "            lng, \n",
    "            radius, \n",
    "            LIMIT)\n",
    "            \n",
    "        # make the GET request\n",
    "        results = requests.get(url).json()[\"response\"]['groups'][0]['items']\n",
    "        \n",
    "        # return only relevant information for each nearby venue\n",
    "        venues_list.append([(\n",
    "            name, \n",
    "            lat, \n",
    "            lng, \n",
    "            v['venue']['name'], \n",
    "            v['venue']['location']['lat'], \n",
    "            v['venue']['location']['lng'],  \n",
    "            v['venue']['categories'][0]['name']) for v in results])\n",
    "\n",
    "    nearby_venues = pd.DataFrame([item for venue_list in venues_list for item in venue_list])\n",
    "    nearby_venues.columns = ['Neighborhood', \n",
    "                  'Neighborhood Latitude', \n",
    "                  'Neighborhood Longitude', \n",
    "                  'Venue', \n",
    "                  'Venue Latitude', \n",
    "                  'Venue Longitude', \n",
    "                  'Venue Category']\n",
    "    \n",
    "    return(nearby_venues)"
   ]
  },
  {
   "cell_type": "code",
   "execution_count": 15,
   "metadata": {},
   "outputs": [],
   "source": [
    "def return_most_common_venues(row, num_top_venues):\n",
    "    row_categories = row.iloc[1:]\n",
    "    row_categories_sorted = row_categories.sort_values(ascending=False)\n",
    "    \n",
    "    return row_categories_sorted.index.values[0:num_top_venues]"
   ]
  },
  {
   "cell_type": "code",
   "execution_count": 43,
   "metadata": {},
   "outputs": [],
   "source": [
    "def create_data_for_clustering(city):\n",
    "    city_venues = getNearbyVenues(names=city['Neighborhood'],\n",
    "                                   latitudes=city['Latitude'],\n",
    "                                   longitudes=city['Longitude']\n",
    "                                  )\n",
    "        ### One Hot Encoding\n",
    "    # one hot encoding\n",
    "    city_onehot = pd.get_dummies(city_venues[['Venue Category']], prefix=\"\", prefix_sep=\"\")\n",
    "\n",
    "    # add neighborhood column back to dataframe\n",
    "    city_onehot['Neighborhood'] = city_venues['Neighborhood'] \n",
    "\n",
    "    # move neighborhood column to the first column\n",
    "    fixed_columns = [city_onehot.columns[-1]] + list(city_onehot.columns[:-1])\n",
    "    city_onehot = city_onehot[fixed_columns]\n",
    "    city_grouped = city_onehot.groupby('Neighborhood').mean().reset_index()\n",
    "    num_top_venues = 10\n",
    "\n",
    "    indicators = ['st', 'nd', 'rd']\n",
    "\n",
    "    # create columns according to number of top venues\n",
    "    columns = ['Neighborhood']\n",
    "    for ind in np.arange(num_top_venues):\n",
    "        try:\n",
    "            columns.append('{}{} Most Common Venue'.format(ind+1, indicators[ind]))\n",
    "        except:\n",
    "            columns.append('{}th Most Common Venue'.format(ind+1))\n",
    "\n",
    "    # create a new dataframe\n",
    "    neighborhoods_venues_sorted = pd.DataFrame(columns=columns)\n",
    "    neighborhoods_venues_sorted['Neighborhood'] = city_grouped['Neighborhood']\n",
    "\n",
    "    for ind in np.arange(city_grouped.shape[0]):\n",
    "        neighborhoods_venues_sorted.iloc[ind, 1:] = return_most_common_venues(city_grouped.iloc[ind, :], num_top_venues)\n",
    "    return(neighborhoods_venues_sorted,city_grouped)"
   ]
  },
  {
   "cell_type": "markdown",
   "metadata": {},
   "source": [
    "## Use Foursquare API to get information about Toronto and New York"
   ]
  },
  {
   "cell_type": "code",
   "execution_count": 44,
   "metadata": {},
   "outputs": [
    {
     "name": "stdout",
     "output_type": "stream",
     "text": [
      "Marble Hill\n",
      "Chinatown\n",
      "Washington Heights\n",
      "Inwood\n",
      "Hamilton Heights\n",
      "Manhattanville\n",
      "Central Harlem\n",
      "East Harlem\n",
      "Upper East Side\n",
      "Yorkville\n",
      "Lenox Hill\n",
      "Roosevelt Island\n",
      "Upper West Side\n",
      "Lincoln Square\n",
      "Clinton\n",
      "Midtown\n",
      "Murray Hill\n",
      "Chelsea\n",
      "Greenwich Village\n",
      "East Village\n",
      "Lower East Side\n",
      "Tribeca\n",
      "Little Italy\n",
      "Soho\n",
      "West Village\n",
      "Manhattan Valley\n",
      "Morningside Heights\n",
      "Gramercy\n",
      "Battery Park City\n",
      "Financial District\n",
      "Carnegie Hill\n",
      "Noho\n",
      "Civic Center\n",
      "Midtown South\n",
      "Sutton Place\n",
      "Turtle Bay\n",
      "Tudor City\n",
      "Stuyvesant Town\n",
      "Flatiron\n",
      "Hudson Yards\n"
     ]
    }
   ],
   "source": [
    "manhattan_venues_sorted, manhattan_grouped = create_data_for_clustering(manhattan_data)"
   ]
  },
  {
   "cell_type": "code",
   "execution_count": 45,
   "metadata": {},
   "outputs": [
    {
     "name": "stdout",
     "output_type": "stream",
     "text": [
      "Regent Park, Harbourfront\n",
      "Queen's Park, Ontario Provincial Government\n",
      "Garden District, Ryerson\n",
      "St. James Town\n",
      "The Beaches\n",
      "Berczy Park\n",
      "Central Bay Street\n",
      "Christie\n",
      "Richmond, Adelaide, King\n",
      "Dufferin, Dovercourt Village\n",
      "Harbourfront East, Union Station, Toronto Islands\n",
      "Little Portugal, Trinity\n",
      "The Danforth West, Riverdale\n",
      "Toronto Dominion Centre, Design Exchange\n",
      "Brockton, Parkdale Village, Exhibition Place\n",
      "India Bazaar, The Beaches West\n",
      "Commerce Court, Victoria Hotel\n",
      "Studio District\n",
      "Lawrence Park\n",
      "Roselawn\n",
      "Davisville North\n",
      "Forest Hill North & West, Forest Hill Road Park\n",
      "High Park, The Junction South\n",
      "North Toronto West, Lawrence Park\n",
      "The Annex, North Midtown, Yorkville\n",
      "Parkdale, Roncesvalles\n",
      "Davisville\n",
      "University of Toronto, Harbord\n",
      "Runnymede, Swansea\n",
      "Moore Park, Summerhill East\n",
      "Kensington Market, Chinatown, Grange Park\n",
      "Summerhill West, Rathnelly, South Hill, Forest Hill SE, Deer Park\n",
      "CN Tower, King and Spadina, Railway Lands, Harbourfront West, Bathurst Quay, South Niagara, Island airport\n",
      "Rosedale\n",
      "Stn A PO Boxes\n",
      "St. James Town, Cabbagetown\n",
      "First Canadian Place, Underground city\n",
      "Church and Wellesley\n",
      "Business reply mail Processing Centre, South Central Letter Processing Plant Toronto\n"
     ]
    }
   ],
   "source": [
    "toronto_venues_sorted, toronto_grouped = create_data_for_clustering(toronto)"
   ]
  },
  {
   "cell_type": "markdown",
   "metadata": {},
   "source": [
    "### Merge Toronto and New York Data"
   ]
  },
  {
   "cell_type": "code",
   "execution_count": 168,
   "metadata": {},
   "outputs": [],
   "source": [
    "manhattan_grouped['City'] = 'Manhattan'\n",
    "toronto_grouped['City'] = 'Toronto'\n",
    "manhattan_venues_sorted['City'] = 'Manhattan'\n",
    "toronto_venues_sorted['City'] = 'Toronto'\n",
    "ClusterData = pd.concat([manhattan_grouped,toronto_grouped], axis = 0)\n",
    "Venues_Sorted = pd.concat([manhattan_venues_sorted,toronto_venues_sorted], axis = 0)"
   ]
  },
  {
   "cell_type": "code",
   "execution_count": 169,
   "metadata": {},
   "outputs": [],
   "source": [
    "ClusterData = ClusterData.fillna(0)"
   ]
  },
  {
   "cell_type": "markdown",
   "metadata": {},
   "source": [
    "# DEFINE THE CONTROL NEIGHBORHOOD"
   ]
  },
  {
   "cell_type": "markdown",
   "metadata": {},
   "source": []
  },
  {
   "cell_type": "code",
   "execution_count": 170,
   "metadata": {},
   "outputs": [],
   "source": [
    "def control_Neighborhood(neighborhood, latitude, longitude):\n",
    "    ControlNeighborhood = pd.DataFrame({'Neighborhood' : [neighborhood],\n",
    "                                       'Latitude': [latitude],\n",
    "                                       'Longitude' : [longitude]})\n",
    "    return(ControlNeighborhood)"
   ]
  },
  {
   "cell_type": "markdown",
   "metadata": {},
   "source": [
    "## 1st Example: Saint-Germain, Paris"
   ]
  },
  {
   "cell_type": "code",
   "execution_count": 171,
   "metadata": {},
   "outputs": [],
   "source": [
    "ControlNeighborhood =control_Neighborhood('Saint-Germain', 48.898899, 2.0938)"
   ]
  },
  {
   "cell_type": "code",
   "execution_count": 172,
   "metadata": {},
   "outputs": [
    {
     "data": {
      "text/html": [
       "<div>\n",
       "<style scoped>\n",
       "    .dataframe tbody tr th:only-of-type {\n",
       "        vertical-align: middle;\n",
       "    }\n",
       "\n",
       "    .dataframe tbody tr th {\n",
       "        vertical-align: top;\n",
       "    }\n",
       "\n",
       "    .dataframe thead th {\n",
       "        text-align: right;\n",
       "    }\n",
       "</style>\n",
       "<table border=\"1\" class=\"dataframe\">\n",
       "  <thead>\n",
       "    <tr style=\"text-align: right;\">\n",
       "      <th></th>\n",
       "      <th>Neighborhood</th>\n",
       "      <th>Latitude</th>\n",
       "      <th>Longitude</th>\n",
       "    </tr>\n",
       "  </thead>\n",
       "  <tbody>\n",
       "    <tr>\n",
       "      <th>0</th>\n",
       "      <td>Saint-Germain</td>\n",
       "      <td>48.898899</td>\n",
       "      <td>2.0938</td>\n",
       "    </tr>\n",
       "  </tbody>\n",
       "</table>\n",
       "</div>"
      ],
      "text/plain": [
       "    Neighborhood   Latitude  Longitude\n",
       "0  Saint-Germain  48.898899     2.0938"
      ]
     },
     "execution_count": 172,
     "metadata": {},
     "output_type": "execute_result"
    }
   ],
   "source": [
    "ControlNeighborhood"
   ]
  },
  {
   "cell_type": "code",
   "execution_count": 173,
   "metadata": {},
   "outputs": [
    {
     "name": "stdout",
     "output_type": "stream",
     "text": [
      "Saint-Germain\n"
     ]
    }
   ],
   "source": [
    "control_venues_sorted, control_grouped = create_data_for_clustering(ControlNeighborhood)"
   ]
  },
  {
   "cell_type": "markdown",
   "metadata": {},
   "source": [
    "## Find common columns between train and test dataset"
   ]
  },
  {
   "cell_type": "code",
   "execution_count": 176,
   "metadata": {},
   "outputs": [],
   "source": [
    "common_columns = ClusterData.columns & control_grouped.columns"
   ]
  },
  {
   "cell_type": "code",
   "execution_count": 177,
   "metadata": {},
   "outputs": [],
   "source": [
    "from sklearn.cluster import KMeans\n",
    "\n",
    "\n",
    "\n",
    "\n",
    "# set number of clusters\n",
    "kclusters = 10\n",
    "\n",
    "\n",
    "# run k-means clustering\n",
    "kmeans = KMeans(n_clusters=kclusters, random_state=0).fit(ClusterData[common_columns].drop('Neighborhood', 1))\n",
    "\n",
    "# check cluster labels generated for each row in the dataframe\n",
    "kmeans.labels_[0:10] \n",
    "Venues_Sorted['Cluster Labels']= kmeans.labels_"
   ]
  },
  {
   "cell_type": "code",
   "execution_count": 178,
   "metadata": {},
   "outputs": [],
   "source": [
    "Result_Cluster = int(kmeans.predict(control_grouped[common_columns].drop('Neighborhood', 1)))"
   ]
  },
  {
   "cell_type": "code",
   "execution_count": 180,
   "metadata": {},
   "outputs": [
    {
     "name": "stdout",
     "output_type": "stream",
     "text": [
      "If you liked ['Saint-Germain'] you will like also ['Chelsea', 'Chinatown', 'Civic Center', 'Clinton', 'East Village', 'Financial District', 'Gramercy', 'Greenwich Village', 'Hudson Yards', 'Lenox Hill', 'Lincoln Square', 'Little Italy', 'Manhattan Valley', 'Manhattanville', 'Marble Hill', 'Midtown', 'Midtown South', 'Murray Hill', 'Noho', 'Soho', 'Sutton Place', 'Tribeca', 'Turtle Bay', 'Upper East Side', 'Upper West Side', 'West Village', 'Yorkville'] in Manhattan\n"
     ]
    }
   ],
   "source": [
    "print('If you liked {} you will like also {} in Manhattan'.format(list(ControlNeighborhood['Neighborhood']),\n",
    "                                                               str(list(Venues_Sorted.loc[(Venues_Sorted['Cluster Labels']==Result_Cluster) & (Venues_Sorted['City']=='Manhattan') ]['Neighborhood']))   ))"
   ]
  },
  {
   "cell_type": "code",
   "execution_count": 182,
   "metadata": {},
   "outputs": [
    {
     "name": "stdout",
     "output_type": "stream",
     "text": [
      "If you liked ['Saint-Germain'] you will like also ['CN Tower, King and Spadina, Railway Lands, Harbourfront West, Bathurst Quay, South Niagara, Island airport', 'Davisville', 'Garden District, Ryerson', 'Parkdale, Roncesvalles', 'Roselawn', 'The Danforth West, Riverdale'] in Toronto\n"
     ]
    }
   ],
   "source": [
    "print('If you liked {} you will like also {} in Toronto'.format(list(ControlNeighborhood['Neighborhood']),\n",
    "                                                               str(list(Venues_Sorted.loc[(Venues_Sorted['Cluster Labels']==Result_Cluster) & (Venues_Sorted['City']=='Toronto') ]['Neighborhood']))   ))"
   ]
  },
  {
   "cell_type": "markdown",
   "metadata": {},
   "source": [
    "### Second Example : Camden, London"
   ]
  },
  {
   "cell_type": "code",
   "execution_count": 183,
   "metadata": {},
   "outputs": [
    {
     "data": {
      "text/html": [
       "<div>\n",
       "<style scoped>\n",
       "    .dataframe tbody tr th:only-of-type {\n",
       "        vertical-align: middle;\n",
       "    }\n",
       "\n",
       "    .dataframe tbody tr th {\n",
       "        vertical-align: top;\n",
       "    }\n",
       "\n",
       "    .dataframe thead th {\n",
       "        text-align: right;\n",
       "    }\n",
       "</style>\n",
       "<table border=\"1\" class=\"dataframe\">\n",
       "  <thead>\n",
       "    <tr style=\"text-align: right;\">\n",
       "      <th></th>\n",
       "      <th>Neighborhood</th>\n",
       "      <th>Latitude</th>\n",
       "      <th>Longitude</th>\n",
       "    </tr>\n",
       "  </thead>\n",
       "  <tbody>\n",
       "    <tr>\n",
       "      <th>0</th>\n",
       "      <td>Camden</td>\n",
       "      <td>51.536388</td>\n",
       "      <td>-0.140556</td>\n",
       "    </tr>\n",
       "  </tbody>\n",
       "</table>\n",
       "</div>"
      ],
      "text/plain": [
       "  Neighborhood   Latitude  Longitude\n",
       "0       Camden  51.536388  -0.140556"
      ]
     },
     "execution_count": 183,
     "metadata": {},
     "output_type": "execute_result"
    }
   ],
   "source": [
    "ControlNeighborhood =control_Neighborhood('Camden',  51.536388, -0.140556)\n",
    "\n",
    "ControlNeighborhood\n",
    "\n"
   ]
  },
  {
   "cell_type": "code",
   "execution_count": 184,
   "metadata": {},
   "outputs": [
    {
     "name": "stdout",
     "output_type": "stream",
     "text": [
      "Camden\n"
     ]
    }
   ],
   "source": [
    "control_venues_sorted, control_grouped = create_data_for_clustering(ControlNeighborhood)\n",
    "\n",
    "## Find common columns between train and test dataset\n",
    "\n",
    "common_columns = ClusterData.columns & control_grouped.columns\n",
    "\n"
   ]
  },
  {
   "cell_type": "code",
   "execution_count": 185,
   "metadata": {},
   "outputs": [
    {
     "data": {
      "text/plain": [
       "Index(['Neighborhood', 'Argentinian Restaurant', 'Bakery', 'Bar', 'Beer Bar',\n",
       "       'Bookstore', 'Burger Joint', 'Bus Stop', 'Clothing Store',\n",
       "       'Cocktail Bar', 'Coffee Shop', 'Convenience Store', 'Deli / Bodega',\n",
       "       'Discount Store', 'Falafel Restaurant', 'Fast Food Restaurant',\n",
       "       'Food Truck', 'Garden', 'Greek Restaurant', 'Grocery Store', 'Hostel',\n",
       "       'Hotel', 'Ice Cream Shop', 'Indian Restaurant', 'Indie Theater',\n",
       "       'Italian Restaurant', 'Japanese Restaurant', 'Jazz Club',\n",
       "       'Kebab Restaurant', 'Lounge', 'Market', 'Mediterranean Restaurant',\n",
       "       'Mexican Restaurant', 'Middle Eastern Restaurant', 'Music Venue',\n",
       "       'Nightclub', 'Park', 'Pharmacy', 'Pizza Place', 'Pub',\n",
       "       'Ramen Restaurant', 'Record Shop', 'Restaurant', 'Rock Club',\n",
       "       'Sandwich Place', 'Shoe Store', 'Snack Place', 'Supermarket',\n",
       "       'Sushi Restaurant', 'Tapas Restaurant', 'Tea Room', 'Thai Restaurant',\n",
       "       'Turkish Restaurant', 'Vegetarian / Vegan Restaurant',\n",
       "       'Fish & Chips Shop', 'Fruit & Vegetable Store',\n",
       "       'Portuguese Restaurant'],\n",
       "      dtype='object')"
      ]
     },
     "execution_count": 185,
     "metadata": {},
     "output_type": "execute_result"
    }
   ],
   "source": [
    "common_columns\n"
   ]
  },
  {
   "cell_type": "code",
   "execution_count": 186,
   "metadata": {},
   "outputs": [],
   "source": [
    "from sklearn.cluster import KMeans\n",
    "\n",
    "\n",
    "\n",
    "\n",
    "# set number of clusters\n",
    "kclusters = 10\n",
    "\n",
    "\n",
    "# run k-means clustering\n",
    "kmeans = KMeans(n_clusters=kclusters, random_state=0).fit(ClusterData[common_columns].drop('Neighborhood', 1))\n",
    "\n",
    "# check cluster labels generated for each row in the dataframe\n",
    "kmeans.labels_[0:10] \n",
    "Venues_Sorted['Cluster Labels']= kmeans.labels_"
   ]
  },
  {
   "cell_type": "code",
   "execution_count": 188,
   "metadata": {},
   "outputs": [
    {
     "name": "stdout",
     "output_type": "stream",
     "text": [
      "If you liked ['Camden'] you will like also ['Carnegie Hill', 'Chelsea', 'Civic Center', 'Manhattan Valley', 'Manhattanville'] in Manhattan\n"
     ]
    }
   ],
   "source": [
    "Result_Cluster = int(kmeans.predict(control_grouped[common_columns].drop('Neighborhood', 1)))\n",
    "\n",
    "print('If you liked {} you will also like {} in Manhattan'.format(list(ControlNeighborhood['Neighborhood']),\n",
    "                                                               str(list(Venues_Sorted.loc[(Venues_Sorted['Cluster Labels']==Result_Cluster) & (Venues_Sorted['City']=='Manhattan') ]['Neighborhood']))   ))\n",
    "\n"
   ]
  },
  {
   "cell_type": "code",
   "execution_count": 189,
   "metadata": {},
   "outputs": [
    {
     "name": "stdout",
     "output_type": "stream",
     "text": [
      "If you liked ['Camden'] you will like also ['Berczy Park', 'Brockton, Parkdale Village, Exhibition Place', 'Central Bay Street', 'Church and Wellesley', 'Commerce Court, Victoria Hotel', 'First Canadian Place, Underground city', 'Garden District, Ryerson', 'Harbourfront East, Union Station, Toronto Islands', 'North Toronto West, Lawrence Park', 'Parkdale, Roncesvalles', \"Queen's Park, Ontario Provincial Government\", 'Regent Park, Harbourfront', 'Richmond, Adelaide, King', 'St. James Town', 'St. James Town, Cabbagetown', 'Stn A PO Boxes', 'Studio District', 'Summerhill West, Rathnelly, South Hill, Forest Hill SE, Deer Park', 'Toronto Dominion Centre, Design Exchange'] in Toronto\n"
     ]
    }
   ],
   "source": [
    "print('If you liked {} you will also like {} in Toronto'.format(list(ControlNeighborhood['Neighborhood']),\n",
    "                                                               str(list(Venues_Sorted.loc[(Venues_Sorted['Cluster Labels']==Result_Cluster) & (Venues_Sorted['City']=='Toronto') ]['Neighborhood']))   ))"
   ]
  },
  {
   "cell_type": "code",
   "execution_count": 190,
   "metadata": {},
   "outputs": [
    {
     "data": {
      "text/html": [
       "<div>\n",
       "<style scoped>\n",
       "    .dataframe tbody tr th:only-of-type {\n",
       "        vertical-align: middle;\n",
       "    }\n",
       "\n",
       "    .dataframe tbody tr th {\n",
       "        vertical-align: top;\n",
       "    }\n",
       "\n",
       "    .dataframe thead th {\n",
       "        text-align: right;\n",
       "    }\n",
       "</style>\n",
       "<table border=\"1\" class=\"dataframe\">\n",
       "  <thead>\n",
       "    <tr style=\"text-align: right;\">\n",
       "      <th></th>\n",
       "      <th>Neighborhood</th>\n",
       "      <th>Argentinian Restaurant</th>\n",
       "      <th>Bakery</th>\n",
       "      <th>Bar</th>\n",
       "      <th>Beer Bar</th>\n",
       "      <th>Bookstore</th>\n",
       "      <th>Burger Joint</th>\n",
       "      <th>Bus Stop</th>\n",
       "      <th>Clothing Store</th>\n",
       "      <th>Cocktail Bar</th>\n",
       "      <th>Coffee Shop</th>\n",
       "      <th>Convenience Store</th>\n",
       "      <th>Deli / Bodega</th>\n",
       "      <th>Discount Store</th>\n",
       "      <th>Falafel Restaurant</th>\n",
       "      <th>Fast Food Restaurant</th>\n",
       "      <th>Fish &amp; Chips Shop</th>\n",
       "      <th>Food Truck</th>\n",
       "      <th>Fruit &amp; Vegetable Store</th>\n",
       "      <th>Garden</th>\n",
       "      <th>Greek Restaurant</th>\n",
       "      <th>Grocery Store</th>\n",
       "      <th>Halal Restaurant</th>\n",
       "      <th>Hostel</th>\n",
       "      <th>Hotel</th>\n",
       "      <th>Ice Cream Shop</th>\n",
       "      <th>Indian Restaurant</th>\n",
       "      <th>Indie Theater</th>\n",
       "      <th>Italian Restaurant</th>\n",
       "      <th>Japanese Restaurant</th>\n",
       "      <th>Jazz Club</th>\n",
       "      <th>Kebab Restaurant</th>\n",
       "      <th>Lounge</th>\n",
       "      <th>Market</th>\n",
       "      <th>Mediterranean Restaurant</th>\n",
       "      <th>Mexican Restaurant</th>\n",
       "      <th>Middle Eastern Restaurant</th>\n",
       "      <th>Music Venue</th>\n",
       "      <th>Nightclub</th>\n",
       "      <th>Park</th>\n",
       "      <th>Pharmacy</th>\n",
       "      <th>Pizza Place</th>\n",
       "      <th>Portuguese Restaurant</th>\n",
       "      <th>Pub</th>\n",
       "      <th>Ramen Restaurant</th>\n",
       "      <th>Record Shop</th>\n",
       "      <th>Restaurant</th>\n",
       "      <th>Rock Club</th>\n",
       "      <th>Sandwich Place</th>\n",
       "      <th>Shoe Store</th>\n",
       "      <th>Snack Place</th>\n",
       "      <th>Supermarket</th>\n",
       "      <th>Sushi Restaurant</th>\n",
       "      <th>Tapas Restaurant</th>\n",
       "      <th>Tea Room</th>\n",
       "      <th>Thai Restaurant</th>\n",
       "      <th>Turkish Restaurant</th>\n",
       "      <th>Vegetarian / Vegan Restaurant</th>\n",
       "    </tr>\n",
       "  </thead>\n",
       "  <tbody>\n",
       "    <tr>\n",
       "      <th>0</th>\n",
       "      <td>Camden</td>\n",
       "      <td>0.01</td>\n",
       "      <td>0.01</td>\n",
       "      <td>0.03</td>\n",
       "      <td>0.01</td>\n",
       "      <td>0.01</td>\n",
       "      <td>0.03</td>\n",
       "      <td>0.01</td>\n",
       "      <td>0.01</td>\n",
       "      <td>0.02</td>\n",
       "      <td>0.08</td>\n",
       "      <td>0.01</td>\n",
       "      <td>0.01</td>\n",
       "      <td>0.01</td>\n",
       "      <td>0.01</td>\n",
       "      <td>0.01</td>\n",
       "      <td>0.01</td>\n",
       "      <td>0.01</td>\n",
       "      <td>0.01</td>\n",
       "      <td>0.01</td>\n",
       "      <td>0.05</td>\n",
       "      <td>0.01</td>\n",
       "      <td>0.01</td>\n",
       "      <td>0.01</td>\n",
       "      <td>0.01</td>\n",
       "      <td>0.01</td>\n",
       "      <td>0.01</td>\n",
       "      <td>0.01</td>\n",
       "      <td>0.03</td>\n",
       "      <td>0.04</td>\n",
       "      <td>0.01</td>\n",
       "      <td>0.01</td>\n",
       "      <td>0.01</td>\n",
       "      <td>0.01</td>\n",
       "      <td>0.01</td>\n",
       "      <td>0.01</td>\n",
       "      <td>0.02</td>\n",
       "      <td>0.03</td>\n",
       "      <td>0.01</td>\n",
       "      <td>0.02</td>\n",
       "      <td>0.02</td>\n",
       "      <td>0.04</td>\n",
       "      <td>0.01</td>\n",
       "      <td>0.06</td>\n",
       "      <td>0.01</td>\n",
       "      <td>0.02</td>\n",
       "      <td>0.02</td>\n",
       "      <td>0.02</td>\n",
       "      <td>0.02</td>\n",
       "      <td>0.02</td>\n",
       "      <td>0.01</td>\n",
       "      <td>0.03</td>\n",
       "      <td>0.02</td>\n",
       "      <td>0.01</td>\n",
       "      <td>0.02</td>\n",
       "      <td>0.01</td>\n",
       "      <td>0.01</td>\n",
       "      <td>0.01</td>\n",
       "    </tr>\n",
       "  </tbody>\n",
       "</table>\n",
       "</div>"
      ],
      "text/plain": [
       "  Neighborhood  Argentinian Restaurant  Bakery   Bar  Beer Bar  Bookstore  \\\n",
       "0       Camden                    0.01    0.01  0.03      0.01       0.01   \n",
       "\n",
       "   Burger Joint  Bus Stop  Clothing Store  Cocktail Bar  Coffee Shop  \\\n",
       "0          0.03      0.01            0.01          0.02         0.08   \n",
       "\n",
       "   Convenience Store  Deli / Bodega  Discount Store  Falafel Restaurant  \\\n",
       "0               0.01           0.01            0.01                0.01   \n",
       "\n",
       "   Fast Food Restaurant  Fish & Chips Shop  Food Truck  \\\n",
       "0                  0.01               0.01        0.01   \n",
       "\n",
       "   Fruit & Vegetable Store  Garden  Greek Restaurant  Grocery Store  \\\n",
       "0                     0.01    0.01              0.05           0.01   \n",
       "\n",
       "   Halal Restaurant  Hostel  Hotel  Ice Cream Shop  Indian Restaurant  \\\n",
       "0              0.01    0.01   0.01            0.01               0.01   \n",
       "\n",
       "   Indie Theater  Italian Restaurant  Japanese Restaurant  Jazz Club  \\\n",
       "0           0.01                0.03                 0.04       0.01   \n",
       "\n",
       "   Kebab Restaurant  Lounge  Market  Mediterranean Restaurant  \\\n",
       "0              0.01    0.01    0.01                      0.01   \n",
       "\n",
       "   Mexican Restaurant  Middle Eastern Restaurant  Music Venue  Nightclub  \\\n",
       "0                0.01                       0.02         0.03       0.01   \n",
       "\n",
       "   Park  Pharmacy  Pizza Place  Portuguese Restaurant   Pub  Ramen Restaurant  \\\n",
       "0  0.02      0.02         0.04                   0.01  0.06              0.01   \n",
       "\n",
       "   Record Shop  Restaurant  Rock Club  Sandwich Place  Shoe Store  \\\n",
       "0         0.02        0.02       0.02            0.02        0.02   \n",
       "\n",
       "   Snack Place  Supermarket  Sushi Restaurant  Tapas Restaurant  Tea Room  \\\n",
       "0         0.01         0.03              0.02              0.01      0.02   \n",
       "\n",
       "   Thai Restaurant  Turkish Restaurant  Vegetarian / Vegan Restaurant  \n",
       "0             0.01                0.01                           0.01  "
      ]
     },
     "execution_count": 190,
     "metadata": {},
     "output_type": "execute_result"
    }
   ],
   "source": [
    "control_grouped"
   ]
  },
  {
   "cell_type": "code",
   "execution_count": null,
   "metadata": {},
   "outputs": [],
   "source": []
  }
 ],
 "metadata": {
  "kernelspec": {
   "display_name": "Python 3",
   "language": "python",
   "name": "python3"
  },
  "language_info": {
   "codemirror_mode": {
    "name": "ipython",
    "version": 3
   },
   "file_extension": ".py",
   "mimetype": "text/x-python",
   "name": "python",
   "nbconvert_exporter": "python",
   "pygments_lexer": "ipython3",
   "version": "3.7.1"
  }
 },
 "nbformat": 4,
 "nbformat_minor": 4
}
