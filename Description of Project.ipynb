{
 "cells": [
  {
   "cell_type": "markdown",
   "metadata": {},
   "source": [
    "# CAPSTONE PROJECT - BATTLE OF THE NEIGHBORHOODS"
   ]
  },
  {
   "cell_type": "markdown",
   "metadata": {},
   "source": [
    "## 1. Description of the problem"
   ]
  },
  {
   "cell_type": "markdown",
   "metadata": {},
   "source": [
    "When you visit a new city, you usually explore the most famous attractions and sightseeings. But when it comes to eat or have a drink to relax , you probably have no idea where to go to. This project will help to discover neighborhoods in cities based on a person's preferences of a neighborhood he has already visited. In the project we will use data of neighborhoods from New York, Toronto, Paris and London.\n",
    "If the client has visited a neighborhood in one of the cities described above, the algorithm will propose other neighborhoods that are similar in terms of venues in any of the other cities."
   ]
  },
  {
   "cell_type": "markdown",
   "metadata": {},
   "source": [
    "## 2. Description of the data"
   ]
  },
  {
   "cell_type": "markdown",
   "metadata": {},
   "source": [
    "In this project we will use the Foursquare API to extract information about neighborhoods and their corresponding venues for 4 cities:\n",
    "<li>New York</li> \n",
    "<li>Toronto</li>\n",
    "<li>London</li>\n",
    "<li>Paris</li>\n",
    "We will also extract langitude and longitude for the postal codes of these cities."
   ]
  },
  {
   "cell_type": "code",
   "execution_count": null,
   "metadata": {},
   "outputs": [],
   "source": []
  }
 ],
 "metadata": {
  "kernelspec": {
   "display_name": "Python 3",
   "language": "python",
   "name": "python3"
  },
  "language_info": {
   "codemirror_mode": {
    "name": "ipython",
    "version": 3
   },
   "file_extension": ".py",
   "mimetype": "text/x-python",
   "name": "python",
   "nbconvert_exporter": "python",
   "pygments_lexer": "ipython3",
   "version": "3.7.1"
  }
 },
 "nbformat": 4,
 "nbformat_minor": 4
}
